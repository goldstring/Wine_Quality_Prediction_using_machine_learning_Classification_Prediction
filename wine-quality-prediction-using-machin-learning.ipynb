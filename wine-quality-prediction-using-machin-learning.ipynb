{
 "cells": [
  {
   "cell_type": "code",
   "execution_count": 1,
   "id": "cfd7fee8",
   "metadata": {
    "_cell_guid": "b1076dfc-b9ad-4769-8c92-a6c4dae69d19",
    "_uuid": "8f2839f25d086af736a60e9eeb907d3b93b6e0e5",
    "execution": {
     "iopub.execute_input": "2025-04-07T03:13:00.649798Z",
     "iopub.status.busy": "2025-04-07T03:13:00.649544Z",
     "iopub.status.idle": "2025-04-07T03:13:02.851036Z",
     "shell.execute_reply": "2025-04-07T03:13:02.849951Z"
    },
    "papermill": {
     "duration": 2.209742,
     "end_time": "2025-04-07T03:13:02.852257",
     "exception": false,
     "start_time": "2025-04-07T03:13:00.642515",
     "status": "completed"
    },
    "tags": []
   },
   "outputs": [
    {
     "name": "stdout",
     "output_type": "stream",
     "text": [
      "/kaggle/input/wine-quality-dataset/WineQT.csv\n"
     ]
    }
   ],
   "source": [
    "# This Python 3 environment comes with many helpful analytics libraries installed\n",
    "# It is defined by the kaggle/python Docker image: https://github.com/kaggle/docker-python\n",
    "# For example, here's several helpful packages to load\n",
    "\n",
    "import numpy as np # linear algebra\n",
    "import pandas as pd # data processing, CSV file I/O (e.g. pd.read_csv)\n",
    "import matplotlib.pyplot as plt\n",
    "import seaborn as sns\n",
    "import warnings\n",
    "warnings.filterwarnings('ignore')\n",
    "# Input data files are available in the read-only \"../input/\" directory\n",
    "# For example, running this (by clicking run or pressing Shift+Enter) will list all files under the input directory\n",
    "\n",
    "import os\n",
    "for dirname, _, filenames in os.walk('/kaggle/input'):\n",
    "    for filename in filenames:\n",
    "        print(os.path.join(dirname, filename))\n",
    "\n",
    "# You can write up to 20GB to the current directory (/kaggle/working/) that gets preserved as output when you create a version using \"Save & Run All\" \n",
    "# You can also write temporary files to /kaggle/temp/, but they won't be saved outside of the current session"
   ]
  },
  {
   "cell_type": "code",
   "execution_count": 2,
   "id": "0a274132",
   "metadata": {
    "execution": {
     "iopub.execute_input": "2025-04-07T03:13:02.863742Z",
     "iopub.status.busy": "2025-04-07T03:13:02.863332Z",
     "iopub.status.idle": "2025-04-07T03:13:02.876968Z",
     "shell.execute_reply": "2025-04-07T03:13:02.875999Z"
    },
    "papermill": {
     "duration": 0.020603,
     "end_time": "2025-04-07T03:13:02.878328",
     "exception": false,
     "start_time": "2025-04-07T03:13:02.857725",
     "status": "completed"
    },
    "tags": []
   },
   "outputs": [],
   "source": [
    "\n",
    "def detect_data_types(df):\n",
    "    \"\"\"\n",
    "    Detect whether the data type for each column in the DataFrame is discrete, continuous, or unknown.\n",
    "\n",
    "    Parameters:\n",
    "        df (pd.DataFrame): DataFrame containing the columns to analyze.\n",
    "\n",
    "    Returns:\n",
    "        dict: A dictionary where keys are column names and values are the data types ('discrete', 'continuous', 'unknown').\n",
    "    \"\"\"\n",
    "    discrete_text_container=[]\n",
    "    discrete_numeric_container=[]\n",
    "    continuous_container=[]\n",
    "    unknown_container=[]\n",
    "    \n",
    "    \n",
    "\n",
    "    for column in df.columns:\n",
    "        # Drop NaN values for analysis\n",
    "        col_data = df[column].dropna()\n",
    "        \n",
    "        # Get unique value counts\n",
    "        unique_values = col_data.nunique()\n",
    "\n",
    "        # Check if the column is numerical (int or float)\n",
    "        if col_data.dtype in ['int64', 'float64']:\n",
    "            # For integer-based data with few unique values, it's likely discrete\n",
    "            if col_data.dtype == 'int64' and unique_values / len(col_data) < 0.05:\n",
    "                discrete_numeric_container.append(column)\n",
    "            else:\n",
    "                continuous_container.append(column)\n",
    "                \n",
    "        \n",
    "        # Check if the column is categorical/text data\n",
    "        elif col_data.dtype == 'object' or col_data.dtype.name == 'category':\n",
    "            discrete_text_container.append(column)\n",
    "        \n",
    "        # If there are very few unique values compared to the length, treat it as discrete\n",
    "        elif unique_values / len(col_data) < 0.05:\n",
    "            discrete_text_container.append(column)\n",
    "        \n",
    "        # If the data doesn't fit into any category, mark it as 'unknown'\n",
    "        else:\n",
    "            unknown_container.append(column)\n",
    "    \n",
    "    return [discrete_text_container,discrete_numeric_container,continuous_container,unknown_container]\n",
    "            \n",
    "\n",
    "\n",
    "\n",
    "def dataset_analysis(df,target_column=None):\n",
    "\n",
    "\n",
    "    # Total rows\n",
    "    total_rows = len(df)\n",
    "    # Count of unique rows\n",
    "    unique_rows = len(df.drop_duplicates())\n",
    "    # Count of duplicate rows\n",
    "    duplicate_rows = total_rows - unique_rows\n",
    "    # Calculate percentages\n",
    "    unique_percentage = (unique_rows / total_rows) * 100\n",
    "    duplicate_percentage = (duplicate_rows / total_rows) * 100\n",
    "\n",
    "    print('='*50)\n",
    "    print('Dataset Shape (Rows & Columns)')\n",
    "    print('='*50)\n",
    "    print('Rows :-',df.shape[0])\n",
    "    print('Columns :-',df.shape[1])\n",
    "    print(f\"Unique Rows: {unique_rows} ({unique_percentage:.2f}%)\")\n",
    "    print(f\"Duplicate Rows: {duplicate_rows} ({duplicate_percentage:.2f}%)\")\n",
    "\n",
    "\n",
    "    # Check for null (missing) values and their counts\n",
    "    print(\"\\n\" + \"=\"*50)\n",
    "    print(\"Columns with Null Values and Null Value Counts\")\n",
    "    print(\"=\"*50)\n",
    "    null_columns = df.columns[df.isnull().any()]\n",
    "    if null_columns.empty:\n",
    "        print(\"No columns contain null values.\")\n",
    "    else:\n",
    "        for col in null_columns:\n",
    "            null_count = df[col].isnull().sum()\n",
    "            print(f\"{col}: {null_count} null values\")\n",
    "\n",
    "\n",
    "    # Data type-wise column count\n",
    "    print(\"\\n\" + \"=\"*50)\n",
    "    print(\"Data Type Wise Column Count\")\n",
    "    print(\"=\"*50)\n",
    "    dtype_count = df.dtypes.value_counts()\n",
    "    print(dtype_count)\n",
    "    \n",
    "\n",
    "\n",
    "    # Discrete And Continous Data Analysis\n",
    "    print(\"\\n\" + \"=\"*50)\n",
    "    print(\"Discrete And Continous Data Analysis\")\n",
    "    print(\"=\"*50)\n",
    "    dtype_count = df.columns\n",
    "    dectectDataTypeObj=detect_data_types(df)\n",
    "\n",
    "     # Extract containers\n",
    "    discrete_text_columns, discrete_numeric_columns, continuous_columns, unknown_columns = dectectDataTypeObj\n",
    "\n",
    "    #[discrete_text_container,discrete_numeric_container,continuous_container,unknown_container]\n",
    "    \n",
    "    if(len(dectectDataTypeObj)>0):\n",
    "\n",
    "        #Discrete Text Columns\n",
    "        if len(dectectDataTypeObj[0])>0:\n",
    "            print('Discrete Text Columns :',', '.join(discrete_text_columns))\n",
    "        else:\n",
    "            print('Discrete Text Columns :','-----')\n",
    "\n",
    "        print('\\n')\n",
    "\n",
    "        #Discrete Numeric Columns\n",
    "        if len(dectectDataTypeObj[1])>0:\n",
    "            print('Discrete Numeric Columns :',', '.join(discrete_numeric_columns) )\n",
    "        else:\n",
    "            print('Discrete Numeric Columns :','-----')\n",
    "        print('\\n')\n",
    "\n",
    "        #Continuous  Columns\n",
    "        if len(dectectDataTypeObj[2])>0:\n",
    "            print('Continuous Columns :',', '.join(continuous_columns))\n",
    "        else:\n",
    "            print('Continuous Columns :','-----')\n",
    "\n",
    "        print('\\n')\n",
    "        \n",
    "        #Unknown Columns\n",
    "        if len(dectectDataTypeObj[3])>0:\n",
    "            print('Unknown Columns :',', '.join(unknown_columns))\n",
    "        else:\n",
    "            print('Unknown Columns :','-----')\n",
    "\n",
    "        \n",
    "\n",
    "    if len(continuous_columns) > 0:\n",
    "        \n",
    "\n",
    "        # Check skewness in numerical columns\n",
    "        print(\"\\n\" + \"=\"*50)\n",
    "        print(\"Skewness of Numerical Columns\")\n",
    "        print(\"=\"*50)\n",
    "        skewness = df[continuous_columns].skew()\n",
    "        \n",
    "        if skewness.empty:\n",
    "            print(\"No numerical columns to check skewness.\")\n",
    "        else:\n",
    "            for col in skewness.index:\n",
    "                skew_value = skewness[col]\n",
    "                \n",
    "                # Determine the skewness range and flag\n",
    "                if skew_value > 1:\n",
    "                    skew_range = \"Strong Positive Skew\"\n",
    "                    flag = \"Consider transformation (e.g., log or square root)\"\n",
    "                elif skew_value >= 0.5:\n",
    "                    skew_range = \"Mild Positive Skew\"\n",
    "                    #flag = \"Potential for mild skewness issues\"\n",
    "                    flag=\"\"\n",
    "                elif skew_value >= -0.5 and skew_value <= 0.5:\n",
    "                    skew_range = \"Approximately Symmetric\"\n",
    "                    #flag = \"No transformation needed\"\n",
    "                    flag=\"\"\n",
    "                elif skew_value <= -1:\n",
    "                    skew_range = \"Strong Negative Skew\"\n",
    "                    flag = \"Consider transformation (e.g., log or square root)\"\n",
    "                elif skew_value <= -0.5:\n",
    "                    skew_range = \"Mild Negative Skew\"\n",
    "                    #flag = \"Potential for mild skewness issues\"\n",
    "                    flag=\"\"\n",
    "                \n",
    "                print(f\"{col}: {skew_value:.2f} -> {skew_range}. {flag}\")\n",
    "\n",
    "        \n",
    "        \n",
    "        \n",
    "            \n",
    "    else:\n",
    "        print(\"No numeric columns available for Skewness Analysis.\")\n",
    "\n",
    "\n",
    "    # Additional information aboutConstant unique values and example entries\n",
    "    print(\"\\n\" + \"=\"*50)\n",
    "    print(\"Constant Unique Values in Categorical Columns\")\n",
    "    print(\"=\"*50)\n",
    "    categorical_cols=discrete_text_columns+discrete_numeric_columns\n",
    "    if len(categorical_cols)>0:\n",
    "        for col in categorical_cols:\n",
    "            if len(df[col].unique()) == 1:\n",
    "                print(f\"{col}: {sorted(df[col].unique())}\\n\")\n",
    "    \n",
    "\n",
    "    # Additional information about unique values and example entries\n",
    "    print(\"\\n\" + \"=\"*50)\n",
    "    print(\"Unique Values in Categorical Columns\")\n",
    "    print(\"=\"*50)\n",
    "    categorical_cols=discrete_text_columns+discrete_numeric_columns\n",
    "    if len(categorical_cols)>0:\n",
    "        for col in categorical_cols:\n",
    "            if len(df[col].unique()) != 1:\n",
    "                print(f\"{col}: {sorted(df[col].unique())}\\n\")\n",
    "    \n",
    "    \n",
    "\n",
    "    # Check for Imbalance in Custom Target Column\n",
    "    if target_column:\n",
    "        print(f\"\\n{'='*50}\\nImbalance Analysis for '{target_column}'\\n{'='*50}\")\n",
    "        target_counts = df[target_column].value_counts()\n",
    "        target_percentage = target_counts / len(df) * 100\n",
    "    \n",
    "    \n",
    "        # Check for Imbalance\n",
    "        imbalance_ratio = target_counts.min() / target_counts.max()\n",
    "        print(f\"The dataset is {'imbalanced' if imbalance_ratio < 0.25 else 'balanced'} with respect to '{target_column}'.\")\n",
    "\n",
    "     \n",
    "    "
   ]
  },
  {
   "cell_type": "code",
   "execution_count": 3,
   "id": "d65d165a",
   "metadata": {
    "execution": {
     "iopub.execute_input": "2025-04-07T03:13:02.889591Z",
     "iopub.status.busy": "2025-04-07T03:13:02.889266Z",
     "iopub.status.idle": "2025-04-07T03:13:02.926269Z",
     "shell.execute_reply": "2025-04-07T03:13:02.925547Z"
    },
    "papermill": {
     "duration": 0.044179,
     "end_time": "2025-04-07T03:13:02.927719",
     "exception": false,
     "start_time": "2025-04-07T03:13:02.883540",
     "status": "completed"
    },
    "tags": []
   },
   "outputs": [
    {
     "data": {
      "text/html": [
       "<div>\n",
       "<style scoped>\n",
       "    .dataframe tbody tr th:only-of-type {\n",
       "        vertical-align: middle;\n",
       "    }\n",
       "\n",
       "    .dataframe tbody tr th {\n",
       "        vertical-align: top;\n",
       "    }\n",
       "\n",
       "    .dataframe thead th {\n",
       "        text-align: right;\n",
       "    }\n",
       "</style>\n",
       "<table border=\"1\" class=\"dataframe\">\n",
       "  <thead>\n",
       "    <tr style=\"text-align: right;\">\n",
       "      <th></th>\n",
       "      <th>fixed acidity</th>\n",
       "      <th>volatile acidity</th>\n",
       "      <th>citric acid</th>\n",
       "      <th>residual sugar</th>\n",
       "      <th>chlorides</th>\n",
       "      <th>free sulfur dioxide</th>\n",
       "      <th>total sulfur dioxide</th>\n",
       "      <th>density</th>\n",
       "      <th>pH</th>\n",
       "      <th>sulphates</th>\n",
       "      <th>alcohol</th>\n",
       "      <th>quality</th>\n",
       "      <th>Id</th>\n",
       "    </tr>\n",
       "  </thead>\n",
       "  <tbody>\n",
       "    <tr>\n",
       "      <th>0</th>\n",
       "      <td>7.4</td>\n",
       "      <td>0.70</td>\n",
       "      <td>0.00</td>\n",
       "      <td>1.9</td>\n",
       "      <td>0.076</td>\n",
       "      <td>11.0</td>\n",
       "      <td>34.0</td>\n",
       "      <td>0.9978</td>\n",
       "      <td>3.51</td>\n",
       "      <td>0.56</td>\n",
       "      <td>9.4</td>\n",
       "      <td>5</td>\n",
       "      <td>0</td>\n",
       "    </tr>\n",
       "    <tr>\n",
       "      <th>1</th>\n",
       "      <td>7.8</td>\n",
       "      <td>0.88</td>\n",
       "      <td>0.00</td>\n",
       "      <td>2.6</td>\n",
       "      <td>0.098</td>\n",
       "      <td>25.0</td>\n",
       "      <td>67.0</td>\n",
       "      <td>0.9968</td>\n",
       "      <td>3.20</td>\n",
       "      <td>0.68</td>\n",
       "      <td>9.8</td>\n",
       "      <td>5</td>\n",
       "      <td>1</td>\n",
       "    </tr>\n",
       "    <tr>\n",
       "      <th>2</th>\n",
       "      <td>7.8</td>\n",
       "      <td>0.76</td>\n",
       "      <td>0.04</td>\n",
       "      <td>2.3</td>\n",
       "      <td>0.092</td>\n",
       "      <td>15.0</td>\n",
       "      <td>54.0</td>\n",
       "      <td>0.9970</td>\n",
       "      <td>3.26</td>\n",
       "      <td>0.65</td>\n",
       "      <td>9.8</td>\n",
       "      <td>5</td>\n",
       "      <td>2</td>\n",
       "    </tr>\n",
       "    <tr>\n",
       "      <th>3</th>\n",
       "      <td>11.2</td>\n",
       "      <td>0.28</td>\n",
       "      <td>0.56</td>\n",
       "      <td>1.9</td>\n",
       "      <td>0.075</td>\n",
       "      <td>17.0</td>\n",
       "      <td>60.0</td>\n",
       "      <td>0.9980</td>\n",
       "      <td>3.16</td>\n",
       "      <td>0.58</td>\n",
       "      <td>9.8</td>\n",
       "      <td>6</td>\n",
       "      <td>3</td>\n",
       "    </tr>\n",
       "    <tr>\n",
       "      <th>4</th>\n",
       "      <td>7.4</td>\n",
       "      <td>0.70</td>\n",
       "      <td>0.00</td>\n",
       "      <td>1.9</td>\n",
       "      <td>0.076</td>\n",
       "      <td>11.0</td>\n",
       "      <td>34.0</td>\n",
       "      <td>0.9978</td>\n",
       "      <td>3.51</td>\n",
       "      <td>0.56</td>\n",
       "      <td>9.4</td>\n",
       "      <td>5</td>\n",
       "      <td>4</td>\n",
       "    </tr>\n",
       "  </tbody>\n",
       "</table>\n",
       "</div>"
      ],
      "text/plain": [
       "   fixed acidity  volatile acidity  citric acid  residual sugar  chlorides  \\\n",
       "0            7.4              0.70         0.00             1.9      0.076   \n",
       "1            7.8              0.88         0.00             2.6      0.098   \n",
       "2            7.8              0.76         0.04             2.3      0.092   \n",
       "3           11.2              0.28         0.56             1.9      0.075   \n",
       "4            7.4              0.70         0.00             1.9      0.076   \n",
       "\n",
       "   free sulfur dioxide  total sulfur dioxide  density    pH  sulphates  \\\n",
       "0                 11.0                  34.0   0.9978  3.51       0.56   \n",
       "1                 25.0                  67.0   0.9968  3.20       0.68   \n",
       "2                 15.0                  54.0   0.9970  3.26       0.65   \n",
       "3                 17.0                  60.0   0.9980  3.16       0.58   \n",
       "4                 11.0                  34.0   0.9978  3.51       0.56   \n",
       "\n",
       "   alcohol  quality  Id  \n",
       "0      9.4        5   0  \n",
       "1      9.8        5   1  \n",
       "2      9.8        5   2  \n",
       "3      9.8        6   3  \n",
       "4      9.4        5   4  "
      ]
     },
     "execution_count": 3,
     "metadata": {},
     "output_type": "execute_result"
    }
   ],
   "source": [
    "df=pd.read_csv('/kaggle/input/wine-quality-dataset/WineQT.csv')\n",
    "df.head()"
   ]
  },
  {
   "cell_type": "code",
   "execution_count": 4,
   "id": "e3a3ac03",
   "metadata": {
    "execution": {
     "iopub.execute_input": "2025-04-07T03:13:02.939145Z",
     "iopub.status.busy": "2025-04-07T03:13:02.938826Z",
     "iopub.status.idle": "2025-04-07T03:13:02.947588Z",
     "shell.execute_reply": "2025-04-07T03:13:02.946676Z"
    },
    "papermill": {
     "duration": 0.015885,
     "end_time": "2025-04-07T03:13:02.949108",
     "exception": false,
     "start_time": "2025-04-07T03:13:02.933223",
     "status": "completed"
    },
    "tags": []
   },
   "outputs": [],
   "source": [
    "df=df.drop(columns='Id',axis=1)"
   ]
  },
  {
   "cell_type": "code",
   "execution_count": 5,
   "id": "63e92178",
   "metadata": {
    "execution": {
     "iopub.execute_input": "2025-04-07T03:13:02.960582Z",
     "iopub.status.busy": "2025-04-07T03:13:02.960287Z",
     "iopub.status.idle": "2025-04-07T03:13:02.973063Z",
     "shell.execute_reply": "2025-04-07T03:13:02.971831Z"
    },
    "papermill": {
     "duration": 0.020035,
     "end_time": "2025-04-07T03:13:02.974580",
     "exception": false,
     "start_time": "2025-04-07T03:13:02.954545",
     "status": "completed"
    },
    "tags": []
   },
   "outputs": [
    {
     "data": {
      "text/html": [
       "<div>\n",
       "<style scoped>\n",
       "    .dataframe tbody tr th:only-of-type {\n",
       "        vertical-align: middle;\n",
       "    }\n",
       "\n",
       "    .dataframe tbody tr th {\n",
       "        vertical-align: top;\n",
       "    }\n",
       "\n",
       "    .dataframe thead th {\n",
       "        text-align: right;\n",
       "    }\n",
       "</style>\n",
       "<table border=\"1\" class=\"dataframe\">\n",
       "  <thead>\n",
       "    <tr style=\"text-align: right;\">\n",
       "      <th></th>\n",
       "      <th>fixed acidity</th>\n",
       "      <th>volatile acidity</th>\n",
       "      <th>citric acid</th>\n",
       "      <th>residual sugar</th>\n",
       "      <th>chlorides</th>\n",
       "      <th>free sulfur dioxide</th>\n",
       "      <th>total sulfur dioxide</th>\n",
       "      <th>density</th>\n",
       "      <th>pH</th>\n",
       "      <th>sulphates</th>\n",
       "      <th>alcohol</th>\n",
       "      <th>quality</th>\n",
       "    </tr>\n",
       "  </thead>\n",
       "  <tbody>\n",
       "    <tr>\n",
       "      <th>0</th>\n",
       "      <td>7.4</td>\n",
       "      <td>0.70</td>\n",
       "      <td>0.00</td>\n",
       "      <td>1.9</td>\n",
       "      <td>0.076</td>\n",
       "      <td>11.0</td>\n",
       "      <td>34.0</td>\n",
       "      <td>0.9978</td>\n",
       "      <td>3.51</td>\n",
       "      <td>0.56</td>\n",
       "      <td>9.4</td>\n",
       "      <td>5</td>\n",
       "    </tr>\n",
       "    <tr>\n",
       "      <th>1</th>\n",
       "      <td>7.8</td>\n",
       "      <td>0.88</td>\n",
       "      <td>0.00</td>\n",
       "      <td>2.6</td>\n",
       "      <td>0.098</td>\n",
       "      <td>25.0</td>\n",
       "      <td>67.0</td>\n",
       "      <td>0.9968</td>\n",
       "      <td>3.20</td>\n",
       "      <td>0.68</td>\n",
       "      <td>9.8</td>\n",
       "      <td>5</td>\n",
       "    </tr>\n",
       "    <tr>\n",
       "      <th>2</th>\n",
       "      <td>7.8</td>\n",
       "      <td>0.76</td>\n",
       "      <td>0.04</td>\n",
       "      <td>2.3</td>\n",
       "      <td>0.092</td>\n",
       "      <td>15.0</td>\n",
       "      <td>54.0</td>\n",
       "      <td>0.9970</td>\n",
       "      <td>3.26</td>\n",
       "      <td>0.65</td>\n",
       "      <td>9.8</td>\n",
       "      <td>5</td>\n",
       "    </tr>\n",
       "    <tr>\n",
       "      <th>3</th>\n",
       "      <td>11.2</td>\n",
       "      <td>0.28</td>\n",
       "      <td>0.56</td>\n",
       "      <td>1.9</td>\n",
       "      <td>0.075</td>\n",
       "      <td>17.0</td>\n",
       "      <td>60.0</td>\n",
       "      <td>0.9980</td>\n",
       "      <td>3.16</td>\n",
       "      <td>0.58</td>\n",
       "      <td>9.8</td>\n",
       "      <td>6</td>\n",
       "    </tr>\n",
       "    <tr>\n",
       "      <th>4</th>\n",
       "      <td>7.4</td>\n",
       "      <td>0.70</td>\n",
       "      <td>0.00</td>\n",
       "      <td>1.9</td>\n",
       "      <td>0.076</td>\n",
       "      <td>11.0</td>\n",
       "      <td>34.0</td>\n",
       "      <td>0.9978</td>\n",
       "      <td>3.51</td>\n",
       "      <td>0.56</td>\n",
       "      <td>9.4</td>\n",
       "      <td>5</td>\n",
       "    </tr>\n",
       "  </tbody>\n",
       "</table>\n",
       "</div>"
      ],
      "text/plain": [
       "   fixed acidity  volatile acidity  citric acid  residual sugar  chlorides  \\\n",
       "0            7.4              0.70         0.00             1.9      0.076   \n",
       "1            7.8              0.88         0.00             2.6      0.098   \n",
       "2            7.8              0.76         0.04             2.3      0.092   \n",
       "3           11.2              0.28         0.56             1.9      0.075   \n",
       "4            7.4              0.70         0.00             1.9      0.076   \n",
       "\n",
       "   free sulfur dioxide  total sulfur dioxide  density    pH  sulphates  \\\n",
       "0                 11.0                  34.0   0.9978  3.51       0.56   \n",
       "1                 25.0                  67.0   0.9968  3.20       0.68   \n",
       "2                 15.0                  54.0   0.9970  3.26       0.65   \n",
       "3                 17.0                  60.0   0.9980  3.16       0.58   \n",
       "4                 11.0                  34.0   0.9978  3.51       0.56   \n",
       "\n",
       "   alcohol  quality  \n",
       "0      9.4        5  \n",
       "1      9.8        5  \n",
       "2      9.8        5  \n",
       "3      9.8        6  \n",
       "4      9.4        5  "
      ]
     },
     "execution_count": 5,
     "metadata": {},
     "output_type": "execute_result"
    }
   ],
   "source": [
    "df.head()"
   ]
  },
  {
   "cell_type": "code",
   "execution_count": 6,
   "id": "5d62d6af",
   "metadata": {
    "execution": {
     "iopub.execute_input": "2025-04-07T03:13:02.986262Z",
     "iopub.status.busy": "2025-04-07T03:13:02.985933Z",
     "iopub.status.idle": "2025-04-07T03:13:03.014938Z",
     "shell.execute_reply": "2025-04-07T03:13:03.013802Z"
    },
    "papermill": {
     "duration": 0.036138,
     "end_time": "2025-04-07T03:13:03.016363",
     "exception": false,
     "start_time": "2025-04-07T03:13:02.980225",
     "status": "completed"
    },
    "tags": []
   },
   "outputs": [
    {
     "name": "stdout",
     "output_type": "stream",
     "text": [
      "==================================================\n",
      "Dataset Shape (Rows & Columns)\n",
      "==================================================\n",
      "Rows :- 1143\n",
      "Columns :- 12\n",
      "Unique Rows: 1018 (89.06%)\n",
      "Duplicate Rows: 125 (10.94%)\n",
      "\n",
      "==================================================\n",
      "Columns with Null Values and Null Value Counts\n",
      "==================================================\n",
      "No columns contain null values.\n",
      "\n",
      "==================================================\n",
      "Data Type Wise Column Count\n",
      "==================================================\n",
      "float64    11\n",
      "int64       1\n",
      "Name: count, dtype: int64\n",
      "\n",
      "==================================================\n",
      "Discrete And Continous Data Analysis\n",
      "==================================================\n",
      "Discrete Text Columns : -----\n",
      "\n",
      "\n",
      "Discrete Numeric Columns : quality\n",
      "\n",
      "\n",
      "Continuous Columns : fixed acidity, volatile acidity, citric acid, residual sugar, chlorides, free sulfur dioxide, total sulfur dioxide, density, pH, sulphates, alcohol\n",
      "\n",
      "\n",
      "Unknown Columns : -----\n",
      "\n",
      "==================================================\n",
      "Skewness of Numerical Columns\n",
      "==================================================\n",
      "fixed acidity: 1.04 -> Strong Positive Skew. Consider transformation (e.g., log or square root)\n",
      "volatile acidity: 0.68 -> Mild Positive Skew. \n",
      "citric acid: 0.37 -> Approximately Symmetric. \n",
      "residual sugar: 4.36 -> Strong Positive Skew. Consider transformation (e.g., log or square root)\n",
      "chlorides: 6.03 -> Strong Positive Skew. Consider transformation (e.g., log or square root)\n",
      "free sulfur dioxide: 1.23 -> Strong Positive Skew. Consider transformation (e.g., log or square root)\n",
      "total sulfur dioxide: 1.67 -> Strong Positive Skew. Consider transformation (e.g., log or square root)\n",
      "density: 0.10 -> Approximately Symmetric. \n",
      "pH: 0.22 -> Approximately Symmetric. \n",
      "sulphates: 2.50 -> Strong Positive Skew. Consider transformation (e.g., log or square root)\n",
      "alcohol: 0.86 -> Mild Positive Skew. \n",
      "\n",
      "==================================================\n",
      "Constant Unique Values in Categorical Columns\n",
      "==================================================\n",
      "\n",
      "==================================================\n",
      "Unique Values in Categorical Columns\n",
      "==================================================\n",
      "quality: [3, 4, 5, 6, 7, 8]\n",
      "\n",
      "\n",
      "==================================================\n",
      "Imbalance Analysis for 'quality'\n",
      "==================================================\n",
      "The dataset is imbalanced with respect to 'quality'.\n"
     ]
    }
   ],
   "source": [
    "dataset_analysis(df,target_column='quality')"
   ]
  },
  {
   "cell_type": "markdown",
   "id": "dbdeb0bc",
   "metadata": {
    "papermill": {
     "duration": 0.005082,
     "end_time": "2025-04-07T03:13:03.027225",
     "exception": false,
     "start_time": "2025-04-07T03:13:03.022143",
     "status": "completed"
    },
    "tags": []
   },
   "source": [
    "<h3>Data Preprocessing & EDA</h3>"
   ]
  },
  {
   "cell_type": "code",
   "execution_count": 7,
   "id": "37fc0c92",
   "metadata": {
    "execution": {
     "iopub.execute_input": "2025-04-07T03:13:03.039143Z",
     "iopub.status.busy": "2025-04-07T03:13:03.038757Z",
     "iopub.status.idle": "2025-04-07T03:13:03.043817Z",
     "shell.execute_reply": "2025-04-07T03:13:03.042969Z"
    },
    "papermill": {
     "duration": 0.012445,
     "end_time": "2025-04-07T03:13:03.044941",
     "exception": false,
     "start_time": "2025-04-07T03:13:03.032496",
     "status": "completed"
    },
    "tags": []
   },
   "outputs": [
    {
     "data": {
      "text/plain": [
       "(1143, 12)"
      ]
     },
     "execution_count": 7,
     "metadata": {},
     "output_type": "execute_result"
    }
   ],
   "source": [
    "df.shape"
   ]
  },
  {
   "cell_type": "code",
   "execution_count": 8,
   "id": "822e0ecc",
   "metadata": {
    "execution": {
     "iopub.execute_input": "2025-04-07T03:13:03.057579Z",
     "iopub.status.busy": "2025-04-07T03:13:03.057209Z",
     "iopub.status.idle": "2025-04-07T03:13:03.062763Z",
     "shell.execute_reply": "2025-04-07T03:13:03.062024Z"
    },
    "papermill": {
     "duration": 0.013302,
     "end_time": "2025-04-07T03:13:03.064108",
     "exception": false,
     "start_time": "2025-04-07T03:13:03.050806",
     "status": "completed"
    },
    "tags": []
   },
   "outputs": [],
   "source": [
    "df=df.drop_duplicates()"
   ]
  },
  {
   "cell_type": "code",
   "execution_count": 9,
   "id": "2cc81f6b",
   "metadata": {
    "execution": {
     "iopub.execute_input": "2025-04-07T03:13:03.076516Z",
     "iopub.status.busy": "2025-04-07T03:13:03.076199Z",
     "iopub.status.idle": "2025-04-07T03:13:03.081195Z",
     "shell.execute_reply": "2025-04-07T03:13:03.080333Z"
    },
    "papermill": {
     "duration": 0.012438,
     "end_time": "2025-04-07T03:13:03.082376",
     "exception": false,
     "start_time": "2025-04-07T03:13:03.069938",
     "status": "completed"
    },
    "tags": []
   },
   "outputs": [
    {
     "data": {
      "text/plain": [
       "(1018, 12)"
      ]
     },
     "execution_count": 9,
     "metadata": {},
     "output_type": "execute_result"
    }
   ],
   "source": [
    "df.shape"
   ]
  },
  {
   "cell_type": "code",
   "execution_count": 10,
   "id": "96b7c969",
   "metadata": {
    "execution": {
     "iopub.execute_input": "2025-04-07T03:13:03.094457Z",
     "iopub.status.busy": "2025-04-07T03:13:03.094120Z",
     "iopub.status.idle": "2025-04-07T03:13:03.108664Z",
     "shell.execute_reply": "2025-04-07T03:13:03.107552Z"
    },
    "papermill": {
     "duration": 0.022287,
     "end_time": "2025-04-07T03:13:03.110204",
     "exception": false,
     "start_time": "2025-04-07T03:13:03.087917",
     "status": "completed"
    },
    "tags": []
   },
   "outputs": [
    {
     "data": {
      "text/html": [
       "<div>\n",
       "<style scoped>\n",
       "    .dataframe tbody tr th:only-of-type {\n",
       "        vertical-align: middle;\n",
       "    }\n",
       "\n",
       "    .dataframe tbody tr th {\n",
       "        vertical-align: top;\n",
       "    }\n",
       "\n",
       "    .dataframe thead th {\n",
       "        text-align: right;\n",
       "    }\n",
       "</style>\n",
       "<table border=\"1\" class=\"dataframe\">\n",
       "  <thead>\n",
       "    <tr style=\"text-align: right;\">\n",
       "      <th></th>\n",
       "      <th>fixed acidity</th>\n",
       "      <th>volatile acidity</th>\n",
       "      <th>citric acid</th>\n",
       "      <th>residual sugar</th>\n",
       "      <th>chlorides</th>\n",
       "      <th>free sulfur dioxide</th>\n",
       "      <th>total sulfur dioxide</th>\n",
       "      <th>density</th>\n",
       "      <th>pH</th>\n",
       "      <th>sulphates</th>\n",
       "      <th>alcohol</th>\n",
       "      <th>quality</th>\n",
       "    </tr>\n",
       "  </thead>\n",
       "  <tbody>\n",
       "    <tr>\n",
       "      <th>0</th>\n",
       "      <td>7.4</td>\n",
       "      <td>0.70</td>\n",
       "      <td>0.00</td>\n",
       "      <td>1.9</td>\n",
       "      <td>0.076</td>\n",
       "      <td>11.0</td>\n",
       "      <td>34.0</td>\n",
       "      <td>0.9978</td>\n",
       "      <td>3.51</td>\n",
       "      <td>0.56</td>\n",
       "      <td>9.4</td>\n",
       "      <td>5</td>\n",
       "    </tr>\n",
       "    <tr>\n",
       "      <th>1</th>\n",
       "      <td>7.8</td>\n",
       "      <td>0.88</td>\n",
       "      <td>0.00</td>\n",
       "      <td>2.6</td>\n",
       "      <td>0.098</td>\n",
       "      <td>25.0</td>\n",
       "      <td>67.0</td>\n",
       "      <td>0.9968</td>\n",
       "      <td>3.20</td>\n",
       "      <td>0.68</td>\n",
       "      <td>9.8</td>\n",
       "      <td>5</td>\n",
       "    </tr>\n",
       "    <tr>\n",
       "      <th>2</th>\n",
       "      <td>7.8</td>\n",
       "      <td>0.76</td>\n",
       "      <td>0.04</td>\n",
       "      <td>2.3</td>\n",
       "      <td>0.092</td>\n",
       "      <td>15.0</td>\n",
       "      <td>54.0</td>\n",
       "      <td>0.9970</td>\n",
       "      <td>3.26</td>\n",
       "      <td>0.65</td>\n",
       "      <td>9.8</td>\n",
       "      <td>5</td>\n",
       "    </tr>\n",
       "    <tr>\n",
       "      <th>3</th>\n",
       "      <td>11.2</td>\n",
       "      <td>0.28</td>\n",
       "      <td>0.56</td>\n",
       "      <td>1.9</td>\n",
       "      <td>0.075</td>\n",
       "      <td>17.0</td>\n",
       "      <td>60.0</td>\n",
       "      <td>0.9980</td>\n",
       "      <td>3.16</td>\n",
       "      <td>0.58</td>\n",
       "      <td>9.8</td>\n",
       "      <td>6</td>\n",
       "    </tr>\n",
       "    <tr>\n",
       "      <th>5</th>\n",
       "      <td>7.4</td>\n",
       "      <td>0.66</td>\n",
       "      <td>0.00</td>\n",
       "      <td>1.8</td>\n",
       "      <td>0.075</td>\n",
       "      <td>13.0</td>\n",
       "      <td>40.0</td>\n",
       "      <td>0.9978</td>\n",
       "      <td>3.51</td>\n",
       "      <td>0.56</td>\n",
       "      <td>9.4</td>\n",
       "      <td>5</td>\n",
       "    </tr>\n",
       "  </tbody>\n",
       "</table>\n",
       "</div>"
      ],
      "text/plain": [
       "   fixed acidity  volatile acidity  citric acid  residual sugar  chlorides  \\\n",
       "0            7.4              0.70         0.00             1.9      0.076   \n",
       "1            7.8              0.88         0.00             2.6      0.098   \n",
       "2            7.8              0.76         0.04             2.3      0.092   \n",
       "3           11.2              0.28         0.56             1.9      0.075   \n",
       "5            7.4              0.66         0.00             1.8      0.075   \n",
       "\n",
       "   free sulfur dioxide  total sulfur dioxide  density    pH  sulphates  \\\n",
       "0                 11.0                  34.0   0.9978  3.51       0.56   \n",
       "1                 25.0                  67.0   0.9968  3.20       0.68   \n",
       "2                 15.0                  54.0   0.9970  3.26       0.65   \n",
       "3                 17.0                  60.0   0.9980  3.16       0.58   \n",
       "5                 13.0                  40.0   0.9978  3.51       0.56   \n",
       "\n",
       "   alcohol  quality  \n",
       "0      9.4        5  \n",
       "1      9.8        5  \n",
       "2      9.8        5  \n",
       "3      9.8        6  \n",
       "5      9.4        5  "
      ]
     },
     "execution_count": 10,
     "metadata": {},
     "output_type": "execute_result"
    }
   ],
   "source": [
    "df.head()"
   ]
  },
  {
   "cell_type": "code",
   "execution_count": 11,
   "id": "9c94cb19",
   "metadata": {
    "execution": {
     "iopub.execute_input": "2025-04-07T03:13:03.123060Z",
     "iopub.status.busy": "2025-04-07T03:13:03.122710Z",
     "iopub.status.idle": "2025-04-07T03:13:03.137449Z",
     "shell.execute_reply": "2025-04-07T03:13:03.136353Z"
    },
    "papermill": {
     "duration": 0.022662,
     "end_time": "2025-04-07T03:13:03.139101",
     "exception": false,
     "start_time": "2025-04-07T03:13:03.116439",
     "status": "completed"
    },
    "tags": []
   },
   "outputs": [
    {
     "name": "stdout",
     "output_type": "stream",
     "text": [
      "<class 'pandas.core.frame.DataFrame'>\n",
      "Index: 1018 entries, 0 to 1142\n",
      "Data columns (total 12 columns):\n",
      " #   Column                Non-Null Count  Dtype  \n",
      "---  ------                --------------  -----  \n",
      " 0   fixed acidity         1018 non-null   float64\n",
      " 1   volatile acidity      1018 non-null   float64\n",
      " 2   citric acid           1018 non-null   float64\n",
      " 3   residual sugar        1018 non-null   float64\n",
      " 4   chlorides             1018 non-null   float64\n",
      " 5   free sulfur dioxide   1018 non-null   float64\n",
      " 6   total sulfur dioxide  1018 non-null   float64\n",
      " 7   density               1018 non-null   float64\n",
      " 8   pH                    1018 non-null   float64\n",
      " 9   sulphates             1018 non-null   float64\n",
      " 10  alcohol               1018 non-null   float64\n",
      " 11  quality               1018 non-null   int64  \n",
      "dtypes: float64(11), int64(1)\n",
      "memory usage: 103.4 KB\n"
     ]
    }
   ],
   "source": [
    "df.info()"
   ]
  },
  {
   "cell_type": "code",
   "execution_count": 12,
   "id": "c9842b24",
   "metadata": {
    "execution": {
     "iopub.execute_input": "2025-04-07T03:13:03.152501Z",
     "iopub.status.busy": "2025-04-07T03:13:03.152126Z",
     "iopub.status.idle": "2025-04-07T03:13:03.183170Z",
     "shell.execute_reply": "2025-04-07T03:13:03.182003Z"
    },
    "papermill": {
     "duration": 0.039183,
     "end_time": "2025-04-07T03:13:03.184693",
     "exception": false,
     "start_time": "2025-04-07T03:13:03.145510",
     "status": "completed"
    },
    "tags": []
   },
   "outputs": [
    {
     "data": {
      "text/html": [
       "<div>\n",
       "<style scoped>\n",
       "    .dataframe tbody tr th:only-of-type {\n",
       "        vertical-align: middle;\n",
       "    }\n",
       "\n",
       "    .dataframe tbody tr th {\n",
       "        vertical-align: top;\n",
       "    }\n",
       "\n",
       "    .dataframe thead th {\n",
       "        text-align: right;\n",
       "    }\n",
       "</style>\n",
       "<table border=\"1\" class=\"dataframe\">\n",
       "  <thead>\n",
       "    <tr style=\"text-align: right;\">\n",
       "      <th></th>\n",
       "      <th>fixed acidity</th>\n",
       "      <th>volatile acidity</th>\n",
       "      <th>citric acid</th>\n",
       "      <th>residual sugar</th>\n",
       "      <th>chlorides</th>\n",
       "      <th>free sulfur dioxide</th>\n",
       "      <th>total sulfur dioxide</th>\n",
       "      <th>density</th>\n",
       "      <th>pH</th>\n",
       "      <th>sulphates</th>\n",
       "      <th>alcohol</th>\n",
       "      <th>quality</th>\n",
       "    </tr>\n",
       "  </thead>\n",
       "  <tbody>\n",
       "    <tr>\n",
       "      <th>count</th>\n",
       "      <td>1018.000000</td>\n",
       "      <td>1018.000000</td>\n",
       "      <td>1018.000000</td>\n",
       "      <td>1018.000000</td>\n",
       "      <td>1018.000000</td>\n",
       "      <td>1018.000000</td>\n",
       "      <td>1018.000000</td>\n",
       "      <td>1018.000000</td>\n",
       "      <td>1018.000000</td>\n",
       "      <td>1018.000000</td>\n",
       "      <td>1018.000000</td>\n",
       "      <td>1018.000000</td>\n",
       "    </tr>\n",
       "    <tr>\n",
       "      <th>mean</th>\n",
       "      <td>8.288507</td>\n",
       "      <td>0.533541</td>\n",
       "      <td>0.268802</td>\n",
       "      <td>2.524411</td>\n",
       "      <td>0.087187</td>\n",
       "      <td>15.648821</td>\n",
       "      <td>46.325639</td>\n",
       "      <td>0.996700</td>\n",
       "      <td>3.311503</td>\n",
       "      <td>0.656817</td>\n",
       "      <td>10.452456</td>\n",
       "      <td>5.641454</td>\n",
       "    </tr>\n",
       "    <tr>\n",
       "      <th>std</th>\n",
       "      <td>1.741324</td>\n",
       "      <td>0.183167</td>\n",
       "      <td>0.196229</td>\n",
       "      <td>1.314850</td>\n",
       "      <td>0.048506</td>\n",
       "      <td>10.176525</td>\n",
       "      <td>33.123533</td>\n",
       "      <td>0.001916</td>\n",
       "      <td>0.157775</td>\n",
       "      <td>0.167542</td>\n",
       "      <td>1.095064</td>\n",
       "      <td>0.811744</td>\n",
       "    </tr>\n",
       "    <tr>\n",
       "      <th>min</th>\n",
       "      <td>4.600000</td>\n",
       "      <td>0.120000</td>\n",
       "      <td>0.000000</td>\n",
       "      <td>0.900000</td>\n",
       "      <td>0.012000</td>\n",
       "      <td>1.000000</td>\n",
       "      <td>6.000000</td>\n",
       "      <td>0.990070</td>\n",
       "      <td>2.740000</td>\n",
       "      <td>0.330000</td>\n",
       "      <td>8.400000</td>\n",
       "      <td>3.000000</td>\n",
       "    </tr>\n",
       "    <tr>\n",
       "      <th>25%</th>\n",
       "      <td>7.100000</td>\n",
       "      <td>0.390000</td>\n",
       "      <td>0.090000</td>\n",
       "      <td>1.900000</td>\n",
       "      <td>0.070000</td>\n",
       "      <td>7.000000</td>\n",
       "      <td>21.000000</td>\n",
       "      <td>0.995572</td>\n",
       "      <td>3.210000</td>\n",
       "      <td>0.550000</td>\n",
       "      <td>9.500000</td>\n",
       "      <td>5.000000</td>\n",
       "    </tr>\n",
       "    <tr>\n",
       "      <th>50%</th>\n",
       "      <td>7.900000</td>\n",
       "      <td>0.520000</td>\n",
       "      <td>0.250000</td>\n",
       "      <td>2.200000</td>\n",
       "      <td>0.079000</td>\n",
       "      <td>13.000000</td>\n",
       "      <td>38.000000</td>\n",
       "      <td>0.996665</td>\n",
       "      <td>3.310000</td>\n",
       "      <td>0.620000</td>\n",
       "      <td>10.200000</td>\n",
       "      <td>6.000000</td>\n",
       "    </tr>\n",
       "    <tr>\n",
       "      <th>75%</th>\n",
       "      <td>9.100000</td>\n",
       "      <td>0.645000</td>\n",
       "      <td>0.420000</td>\n",
       "      <td>2.600000</td>\n",
       "      <td>0.090000</td>\n",
       "      <td>21.000000</td>\n",
       "      <td>62.000000</td>\n",
       "      <td>0.997827</td>\n",
       "      <td>3.400000</td>\n",
       "      <td>0.720000</td>\n",
       "      <td>11.200000</td>\n",
       "      <td>6.000000</td>\n",
       "    </tr>\n",
       "    <tr>\n",
       "      <th>max</th>\n",
       "      <td>15.900000</td>\n",
       "      <td>1.580000</td>\n",
       "      <td>1.000000</td>\n",
       "      <td>15.500000</td>\n",
       "      <td>0.611000</td>\n",
       "      <td>68.000000</td>\n",
       "      <td>289.000000</td>\n",
       "      <td>1.003690</td>\n",
       "      <td>4.010000</td>\n",
       "      <td>2.000000</td>\n",
       "      <td>14.900000</td>\n",
       "      <td>8.000000</td>\n",
       "    </tr>\n",
       "  </tbody>\n",
       "</table>\n",
       "</div>"
      ],
      "text/plain": [
       "       fixed acidity  volatile acidity  citric acid  residual sugar  \\\n",
       "count    1018.000000       1018.000000  1018.000000     1018.000000   \n",
       "mean        8.288507          0.533541     0.268802        2.524411   \n",
       "std         1.741324          0.183167     0.196229        1.314850   \n",
       "min         4.600000          0.120000     0.000000        0.900000   \n",
       "25%         7.100000          0.390000     0.090000        1.900000   \n",
       "50%         7.900000          0.520000     0.250000        2.200000   \n",
       "75%         9.100000          0.645000     0.420000        2.600000   \n",
       "max        15.900000          1.580000     1.000000       15.500000   \n",
       "\n",
       "         chlorides  free sulfur dioxide  total sulfur dioxide      density  \\\n",
       "count  1018.000000          1018.000000           1018.000000  1018.000000   \n",
       "mean      0.087187            15.648821             46.325639     0.996700   \n",
       "std       0.048506            10.176525             33.123533     0.001916   \n",
       "min       0.012000             1.000000              6.000000     0.990070   \n",
       "25%       0.070000             7.000000             21.000000     0.995572   \n",
       "50%       0.079000            13.000000             38.000000     0.996665   \n",
       "75%       0.090000            21.000000             62.000000     0.997827   \n",
       "max       0.611000            68.000000            289.000000     1.003690   \n",
       "\n",
       "                pH    sulphates      alcohol      quality  \n",
       "count  1018.000000  1018.000000  1018.000000  1018.000000  \n",
       "mean      3.311503     0.656817    10.452456     5.641454  \n",
       "std       0.157775     0.167542     1.095064     0.811744  \n",
       "min       2.740000     0.330000     8.400000     3.000000  \n",
       "25%       3.210000     0.550000     9.500000     5.000000  \n",
       "50%       3.310000     0.620000    10.200000     6.000000  \n",
       "75%       3.400000     0.720000    11.200000     6.000000  \n",
       "max       4.010000     2.000000    14.900000     8.000000  "
      ]
     },
     "execution_count": 12,
     "metadata": {},
     "output_type": "execute_result"
    }
   ],
   "source": [
    "df.describe()"
   ]
  },
  {
   "cell_type": "code",
   "execution_count": 13,
   "id": "8cdddc8c",
   "metadata": {
    "execution": {
     "iopub.execute_input": "2025-04-07T03:13:03.198312Z",
     "iopub.status.busy": "2025-04-07T03:13:03.197944Z",
     "iopub.status.idle": "2025-04-07T03:13:03.203503Z",
     "shell.execute_reply": "2025-04-07T03:13:03.202420Z"
    },
    "papermill": {
     "duration": 0.013921,
     "end_time": "2025-04-07T03:13:03.205006",
     "exception": false,
     "start_time": "2025-04-07T03:13:03.191085",
     "status": "completed"
    },
    "tags": []
   },
   "outputs": [],
   "source": [
    "# Select numeric columns\n",
    "numeric_cols = df.select_dtypes(include=['float64', 'int64']).columns\n",
    "\n",
    "# Replace spaces with underscores in those column names\n",
    "df.rename(columns={col: col.replace(' ', '_') for col in numeric_cols}, inplace=True)"
   ]
  },
  {
   "cell_type": "code",
   "execution_count": 14,
   "id": "7dd5841d",
   "metadata": {
    "execution": {
     "iopub.execute_input": "2025-04-07T03:13:03.218342Z",
     "iopub.status.busy": "2025-04-07T03:13:03.218055Z",
     "iopub.status.idle": "2025-04-07T03:13:03.223662Z",
     "shell.execute_reply": "2025-04-07T03:13:03.222383Z"
    },
    "papermill": {
     "duration": 0.013771,
     "end_time": "2025-04-07T03:13:03.225109",
     "exception": false,
     "start_time": "2025-04-07T03:13:03.211338",
     "status": "completed"
    },
    "tags": []
   },
   "outputs": [
    {
     "data": {
      "text/plain": [
       "Index(['fixed_acidity', 'volatile_acidity', 'citric_acid', 'residual_sugar',\n",
       "       'chlorides', 'free_sulfur_dioxide', 'total_sulfur_dioxide', 'density',\n",
       "       'pH', 'sulphates', 'alcohol', 'quality'],\n",
       "      dtype='object')"
      ]
     },
     "execution_count": 14,
     "metadata": {},
     "output_type": "execute_result"
    }
   ],
   "source": [
    "df.select_dtypes(include=['float64','int64']).columns"
   ]
  },
  {
   "cell_type": "code",
   "execution_count": 15,
   "id": "e372e4a0",
   "metadata": {
    "execution": {
     "iopub.execute_input": "2025-04-07T03:13:03.238259Z",
     "iopub.status.busy": "2025-04-07T03:13:03.237939Z",
     "iopub.status.idle": "2025-04-07T03:13:04.641030Z",
     "shell.execute_reply": "2025-04-07T03:13:04.640143Z"
    },
    "papermill": {
     "duration": 1.410616,
     "end_time": "2025-04-07T03:13:04.642151",
     "exception": false,
     "start_time": "2025-04-07T03:13:03.231535",
     "status": "completed"
    },
    "tags": []
   },
   "outputs": [
    {
     "data": {
      "image/png": "[encoded data removed]",
      "text/plain": [
       "<Figure size 500x300 with 1 Axes>"
      ]
     },
     "metadata": {},
     "output_type": "display_data"
    },
    {
     "data": {
      "image/png": "[encoded data removed]",
      "text/plain": [
       "<Figure size 500x300 with 1 Axes>"
      ]
     },
     "metadata": {},
     "output_type": "display_data"
    },
    {
     "data": {
      "image/png": "[encoded data removed]",
      "text/plain": [
       "<Figure size 500x300 with 1 Axes>"
      ]
     },
     "metadata": {},
     "output_type": "display_data"
    },
    {
     "data": {
      "image/png": "[encoded data removed]",
      "text/plain": [
       "<Figure size 500x300 with 1 Axes>"
      ]
     },
     "metadata": {},
     "output_type": "display_data"
    },
    {
     "data": {
      "image/png": "[encoded data removed]",
      "text/plain": [
       "<Figure size 500x300 with 1 Axes>"
      ]
     },
     "metadata": {},
     "output_type": "display_data"
    },
    {
     "data": {
      "image/png": "[encoded data removed]",
      "text/plain": [
       "<Figure size 500x300 with 1 Axes>"
      ]
     },
     "metadata": {},
     "output_type": "display_data"
    },
    {
     "data": {
      "image/png": "[encoded data removed]",
      "text/plain": [
       "<Figure size 500x300 with 1 Axes>"
      ]
     },
     "metadata": {},
     "output_type": "display_data"
    },
    {
     "data": {
      "image/png": "[encoded data removed]",
      "text/plain": [
       "<Figure size 500x300 with 1 Axes>"
      ]
     },
     "metadata": {},
     "output_type": "display_data"
    },
    {
     "data": {
      "image/png": "[encoded data removed]",
      "text/plain": [
       "<Figure size 500x300 with 1 Axes>"
      ]
     },
     "metadata": {},
     "output_type": "display_data"
    },
    {
     "data": {
      "image/png": "[encoded data removed]",
      "text/plain": [
       "<Figure size 500x300 with 1 Axes>"
      ]
     },
     "metadata": {},
     "output_type": "display_data"
    },
    {
     "data": {
      "image/png": "[encoded data removed]",
      "text/plain": [
       "<Figure size 500x300 with 1 Axes>"
      ]
     },
     "metadata": {},
     "output_type": "display_data"
    },
    {
     "data": {
      "image/png": "[encoded data removed]",
      "text/plain": [
       "<Figure size 500x300 with 1 Axes>"
      ]
     },
     "metadata": {},
     "output_type": "display_data"
    }
   ],
   "source": [
    "for col in df.select_dtypes(include=['float64','int64']).columns:\n",
    "    plt.figure(figsize=(5,3))\n",
    "    sns.boxplot(data=df, y=col)\n",
    "    plt.title(f'Box Plot of {col}')\n",
    "    plt.tight_layout()\n",
    "    plt.show()"
   ]
  },
  {
   "cell_type": "code",
   "execution_count": 16,
   "id": "10d79270",
   "metadata": {
    "execution": {
     "iopub.execute_input": "2025-04-07T03:13:04.660722Z",
     "iopub.status.busy": "2025-04-07T03:13:04.660461Z",
     "iopub.status.idle": "2025-04-07T03:13:04.666435Z",
     "shell.execute_reply": "2025-04-07T03:13:04.665291Z"
    },
    "papermill": {
     "duration": 0.016274,
     "end_time": "2025-04-07T03:13:04.667479",
     "exception": false,
     "start_time": "2025-04-07T03:13:04.651205",
     "status": "completed"
    },
    "tags": []
   },
   "outputs": [
    {
     "data": {
      "text/plain": [
       "Index(['fixed_acidity', 'volatile_acidity', 'citric_acid', 'residual_sugar',\n",
       "       'chlorides', 'free_sulfur_dioxide', 'total_sulfur_dioxide', 'density',\n",
       "       'pH', 'sulphates', 'alcohol', 'quality'],\n",
       "      dtype='object')"
      ]
     },
     "execution_count": 16,
     "metadata": {},
     "output_type": "execute_result"
    }
   ],
   "source": [
    "df.select_dtypes(include=['float64','int64']).columns"
   ]
  },
  {
   "cell_type": "code",
   "execution_count": 17,
   "id": "46c6278d",
   "metadata": {
    "execution": {
     "iopub.execute_input": "2025-04-07T03:13:04.685646Z",
     "iopub.status.busy": "2025-04-07T03:13:04.685388Z",
     "iopub.status.idle": "2025-04-07T03:13:04.696017Z",
     "shell.execute_reply": "2025-04-07T03:13:04.695218Z"
    },
    "papermill": {
     "duration": 0.020966,
     "end_time": "2025-04-07T03:13:04.697150",
     "exception": false,
     "start_time": "2025-04-07T03:13:04.676184",
     "status": "completed"
    },
    "tags": []
   },
   "outputs": [
    {
     "name": "stdout",
     "output_type": "stream",
     "text": [
      "(6, 12)\n",
      "(3, 12)\n",
      "(1, 12)\n",
      "(4, 12)\n",
      "(14, 12)\n",
      "(2, 12)\n",
      "(3, 12)\n",
      "(5, 12)\n",
      "(5, 12)\n",
      "(1, 12)\n"
     ]
    }
   ],
   "source": [
    "print(df[df['fixed_acidity']>14].shape)\n",
    "print(df[df['volatile_acidity']>1.20].shape)\n",
    "print(df[df['citric_acid']>0.8].shape)\n",
    "\n",
    "print(df[df['residual_sugar']>9].shape)\n",
    "print(df[df['chlorides']>0.3].shape)\n",
    "print(df[df['free_sulfur_dioxide']>60].shape)\n",
    "\n",
    "print(df[df['total_sulfur_dioxide']>160].shape)\n",
    "print(df[ (df['pH']>3.8)|(df['pH']<2.8) ].shape)\n",
    "print(df[df['sulphates']>1.5].shape)\n",
    "\n",
    "print(df[df['alcohol']>14].shape)\n"
   ]
  },
  {
   "cell_type": "code",
   "execution_count": 18,
   "id": "37ea0abd",
   "metadata": {
    "execution": {
     "iopub.execute_input": "2025-04-07T03:13:04.716485Z",
     "iopub.status.busy": "2025-04-07T03:13:04.716186Z",
     "iopub.status.idle": "2025-04-07T03:13:04.723330Z",
     "shell.execute_reply": "2025-04-07T03:13:04.722541Z"
    },
    "papermill": {
     "duration": 0.018376,
     "end_time": "2025-04-07T03:13:04.724555",
     "exception": false,
     "start_time": "2025-04-07T03:13:04.706179",
     "status": "completed"
    },
    "tags": []
   },
   "outputs": [],
   "source": [
    "condition = (\n",
    "    (df['fixed_acidity'] > 14) |\n",
    "    (df['volatile_acidity'] > 1.20) |\n",
    "    (df['citric_acid'] > 0.8) |\n",
    "    (df['residual_sugar'] > 9) |\n",
    "    (df['chlorides'] > 0.3) |\n",
    "    (df['free_sulfur_dioxide'] > 60) |\n",
    "    (df['total_sulfur_dioxide'] > 160) |\n",
    "    (df['pH'] > 3.8) | (df['pH'] < 2.8) |\n",
    "    (df['sulphates'] > 1.5) |\n",
    "    (df['alcohol'] > 14)\n",
    ")\n",
    "\n",
    "# Keep only the rows that do NOT meet any of the above conditions\n",
    "df = df[~condition]\n"
   ]
  },
  {
   "cell_type": "code",
   "execution_count": 19,
   "id": "fa848191",
   "metadata": {
    "execution": {
     "iopub.execute_input": "2025-04-07T03:13:04.743739Z",
     "iopub.status.busy": "2025-04-07T03:13:04.743470Z",
     "iopub.status.idle": "2025-04-07T03:13:04.747621Z",
     "shell.execute_reply": "2025-04-07T03:13:04.747011Z"
    },
    "papermill": {
     "duration": 0.014934,
     "end_time": "2025-04-07T03:13:04.748820",
     "exception": false,
     "start_time": "2025-04-07T03:13:04.733886",
     "status": "completed"
    },
    "tags": []
   },
   "outputs": [
    {
     "data": {
      "text/plain": [
       "(979, 12)"
      ]
     },
     "execution_count": 19,
     "metadata": {},
     "output_type": "execute_result"
    }
   ],
   "source": [
    "df.shape"
   ]
  },
  {
   "cell_type": "code",
   "execution_count": 20,
   "id": "9819bae6",
   "metadata": {
    "execution": {
     "iopub.execute_input": "2025-04-07T03:13:04.767529Z",
     "iopub.status.busy": "2025-04-07T03:13:04.767250Z",
     "iopub.status.idle": "2025-04-07T03:13:04.779233Z",
     "shell.execute_reply": "2025-04-07T03:13:04.778639Z"
    },
    "papermill": {
     "duration": 0.022576,
     "end_time": "2025-04-07T03:13:04.780314",
     "exception": false,
     "start_time": "2025-04-07T03:13:04.757738",
     "status": "completed"
    },
    "tags": []
   },
   "outputs": [
    {
     "data": {
      "text/html": [
       "<div>\n",
       "<style scoped>\n",
       "    .dataframe tbody tr th:only-of-type {\n",
       "        vertical-align: middle;\n",
       "    }\n",
       "\n",
       "    .dataframe tbody tr th {\n",
       "        vertical-align: top;\n",
       "    }\n",
       "\n",
       "    .dataframe thead th {\n",
       "        text-align: right;\n",
       "    }\n",
       "</style>\n",
       "<table border=\"1\" class=\"dataframe\">\n",
       "  <thead>\n",
       "    <tr style=\"text-align: right;\">\n",
       "      <th></th>\n",
       "      <th>fixed_acidity</th>\n",
       "      <th>volatile_acidity</th>\n",
       "      <th>citric_acid</th>\n",
       "      <th>residual_sugar</th>\n",
       "      <th>chlorides</th>\n",
       "      <th>free_sulfur_dioxide</th>\n",
       "      <th>total_sulfur_dioxide</th>\n",
       "      <th>density</th>\n",
       "      <th>pH</th>\n",
       "      <th>sulphates</th>\n",
       "      <th>alcohol</th>\n",
       "      <th>quality</th>\n",
       "    </tr>\n",
       "  </thead>\n",
       "  <tbody>\n",
       "    <tr>\n",
       "      <th>0</th>\n",
       "      <td>7.4</td>\n",
       "      <td>0.70</td>\n",
       "      <td>0.00</td>\n",
       "      <td>1.9</td>\n",
       "      <td>0.076</td>\n",
       "      <td>11.0</td>\n",
       "      <td>34.0</td>\n",
       "      <td>0.9978</td>\n",
       "      <td>3.51</td>\n",
       "      <td>0.56</td>\n",
       "      <td>9.4</td>\n",
       "      <td>5</td>\n",
       "    </tr>\n",
       "    <tr>\n",
       "      <th>1</th>\n",
       "      <td>7.8</td>\n",
       "      <td>0.88</td>\n",
       "      <td>0.00</td>\n",
       "      <td>2.6</td>\n",
       "      <td>0.098</td>\n",
       "      <td>25.0</td>\n",
       "      <td>67.0</td>\n",
       "      <td>0.9968</td>\n",
       "      <td>3.20</td>\n",
       "      <td>0.68</td>\n",
       "      <td>9.8</td>\n",
       "      <td>5</td>\n",
       "    </tr>\n",
       "    <tr>\n",
       "      <th>2</th>\n",
       "      <td>7.8</td>\n",
       "      <td>0.76</td>\n",
       "      <td>0.04</td>\n",
       "      <td>2.3</td>\n",
       "      <td>0.092</td>\n",
       "      <td>15.0</td>\n",
       "      <td>54.0</td>\n",
       "      <td>0.9970</td>\n",
       "      <td>3.26</td>\n",
       "      <td>0.65</td>\n",
       "      <td>9.8</td>\n",
       "      <td>5</td>\n",
       "    </tr>\n",
       "    <tr>\n",
       "      <th>3</th>\n",
       "      <td>11.2</td>\n",
       "      <td>0.28</td>\n",
       "      <td>0.56</td>\n",
       "      <td>1.9</td>\n",
       "      <td>0.075</td>\n",
       "      <td>17.0</td>\n",
       "      <td>60.0</td>\n",
       "      <td>0.9980</td>\n",
       "      <td>3.16</td>\n",
       "      <td>0.58</td>\n",
       "      <td>9.8</td>\n",
       "      <td>6</td>\n",
       "    </tr>\n",
       "    <tr>\n",
       "      <th>5</th>\n",
       "      <td>7.4</td>\n",
       "      <td>0.66</td>\n",
       "      <td>0.00</td>\n",
       "      <td>1.8</td>\n",
       "      <td>0.075</td>\n",
       "      <td>13.0</td>\n",
       "      <td>40.0</td>\n",
       "      <td>0.9978</td>\n",
       "      <td>3.51</td>\n",
       "      <td>0.56</td>\n",
       "      <td>9.4</td>\n",
       "      <td>5</td>\n",
       "    </tr>\n",
       "  </tbody>\n",
       "</table>\n",
       "</div>"
      ],
      "text/plain": [
       "   fixed_acidity  volatile_acidity  citric_acid  residual_sugar  chlorides  \\\n",
       "0            7.4              0.70         0.00             1.9      0.076   \n",
       "1            7.8              0.88         0.00             2.6      0.098   \n",
       "2            7.8              0.76         0.04             2.3      0.092   \n",
       "3           11.2              0.28         0.56             1.9      0.075   \n",
       "5            7.4              0.66         0.00             1.8      0.075   \n",
       "\n",
       "   free_sulfur_dioxide  total_sulfur_dioxide  density    pH  sulphates  \\\n",
       "0                 11.0                  34.0   0.9978  3.51       0.56   \n",
       "1                 25.0                  67.0   0.9968  3.20       0.68   \n",
       "2                 15.0                  54.0   0.9970  3.26       0.65   \n",
       "3                 17.0                  60.0   0.9980  3.16       0.58   \n",
       "5                 13.0                  40.0   0.9978  3.51       0.56   \n",
       "\n",
       "   alcohol  quality  \n",
       "0      9.4        5  \n",
       "1      9.8        5  \n",
       "2      9.8        5  \n",
       "3      9.8        6  \n",
       "5      9.4        5  "
      ]
     },
     "execution_count": 20,
     "metadata": {},
     "output_type": "execute_result"
    }
   ],
   "source": [
    "df.head()"
   ]
  },
  {
   "cell_type": "code",
   "execution_count": 21,
   "id": "18b4d69e",
   "metadata": {
    "execution": {
     "iopub.execute_input": "2025-04-07T03:13:04.799262Z",
     "iopub.status.busy": "2025-04-07T03:13:04.798923Z",
     "iopub.status.idle": "2025-04-07T03:13:04.806814Z",
     "shell.execute_reply": "2025-04-07T03:13:04.805750Z"
    },
    "papermill": {
     "duration": 0.018629,
     "end_time": "2025-04-07T03:13:04.808020",
     "exception": false,
     "start_time": "2025-04-07T03:13:04.789391",
     "status": "completed"
    },
    "tags": []
   },
   "outputs": [
    {
     "data": {
      "text/plain": [
       "volatile_acidity       -0.405481\n",
       "total_sulfur_dioxide   -0.225131\n",
       "density                -0.194108\n",
       "chlorides              -0.145645\n",
       "free_sulfur_dioxide    -0.076585\n",
       "pH                     -0.061769\n",
       "residual_sugar          0.029344\n",
       "fixed_acidity           0.120152\n",
       "citric_acid             0.255706\n",
       "sulphates               0.350131\n",
       "alcohol                 0.511186\n",
       "quality                 1.000000\n",
       "Name: quality, dtype: float64"
      ]
     },
     "execution_count": 21,
     "metadata": {},
     "output_type": "execute_result"
    }
   ],
   "source": [
    "df.corr()['quality'].sort_values()"
   ]
  },
  {
   "cell_type": "code",
   "execution_count": 22,
   "id": "688139f4",
   "metadata": {
    "execution": {
     "iopub.execute_input": "2025-04-07T03:13:04.827748Z",
     "iopub.status.busy": "2025-04-07T03:13:04.827492Z",
     "iopub.status.idle": "2025-04-07T03:13:04.831502Z",
     "shell.execute_reply": "2025-04-07T03:13:04.830892Z"
    },
    "papermill": {
     "duration": 0.014976,
     "end_time": "2025-04-07T03:13:04.832522",
     "exception": false,
     "start_time": "2025-04-07T03:13:04.817546",
     "status": "completed"
    },
    "tags": []
   },
   "outputs": [],
   "source": [
    "df=df.drop(columns=['free_sulfur_dioxide','pH','residual_sugar'],axis=1)"
   ]
  },
  {
   "cell_type": "code",
   "execution_count": 23,
   "id": "243e4fd5",
   "metadata": {
    "execution": {
     "iopub.execute_input": "2025-04-07T03:13:04.852779Z",
     "iopub.status.busy": "2025-04-07T03:13:04.852558Z",
     "iopub.status.idle": "2025-04-07T03:13:05.295969Z",
     "shell.execute_reply": "2025-04-07T03:13:05.295072Z"
    },
    "papermill": {
     "duration": 0.456061,
     "end_time": "2025-04-07T03:13:05.297563",
     "exception": false,
     "start_time": "2025-04-07T03:13:04.841502",
     "status": "completed"
    },
    "tags": []
   },
   "outputs": [
    {
     "data": {
      "text/plain": [
       "<Axes: >"
      ]
     },
     "execution_count": 23,
     "metadata": {},
     "output_type": "execute_result"
    },
    {
     "data": {
      "image/png": "[encoded data removed]",
      "text/plain": [
       "<Figure size 1200x500 with 2 Axes>"
      ]
     },
     "metadata": {},
     "output_type": "display_data"
    }
   ],
   "source": [
    "plt.figure(figsize=(12,5))\n",
    "sns.heatmap(df.corr(),annot=True)"
   ]
  },
  {
   "cell_type": "code",
   "execution_count": 24,
   "id": "9c0bf96b",
   "metadata": {
    "execution": {
     "iopub.execute_input": "2025-04-07T03:13:05.321609Z",
     "iopub.status.busy": "2025-04-07T03:13:05.321346Z",
     "iopub.status.idle": "2025-04-07T03:13:05.333133Z",
     "shell.execute_reply": "2025-04-07T03:13:05.332321Z"
    },
    "papermill": {
     "duration": 0.025066,
     "end_time": "2025-04-07T03:13:05.334365",
     "exception": false,
     "start_time": "2025-04-07T03:13:05.309299",
     "status": "completed"
    },
    "tags": []
   },
   "outputs": [
    {
     "data": {
      "text/html": [
       "<div>\n",
       "<style scoped>\n",
       "    .dataframe tbody tr th:only-of-type {\n",
       "        vertical-align: middle;\n",
       "    }\n",
       "\n",
       "    .dataframe tbody tr th {\n",
       "        vertical-align: top;\n",
       "    }\n",
       "\n",
       "    .dataframe thead th {\n",
       "        text-align: right;\n",
       "    }\n",
       "</style>\n",
       "<table border=\"1\" class=\"dataframe\">\n",
       "  <thead>\n",
       "    <tr style=\"text-align: right;\">\n",
       "      <th></th>\n",
       "      <th>fixed_acidity</th>\n",
       "      <th>volatile_acidity</th>\n",
       "      <th>citric_acid</th>\n",
       "      <th>chlorides</th>\n",
       "      <th>total_sulfur_dioxide</th>\n",
       "      <th>density</th>\n",
       "      <th>sulphates</th>\n",
       "      <th>alcohol</th>\n",
       "      <th>quality</th>\n",
       "    </tr>\n",
       "  </thead>\n",
       "  <tbody>\n",
       "    <tr>\n",
       "      <th>0</th>\n",
       "      <td>7.4</td>\n",
       "      <td>0.70</td>\n",
       "      <td>0.00</td>\n",
       "      <td>0.076</td>\n",
       "      <td>34.0</td>\n",
       "      <td>0.9978</td>\n",
       "      <td>0.56</td>\n",
       "      <td>9.4</td>\n",
       "      <td>5</td>\n",
       "    </tr>\n",
       "    <tr>\n",
       "      <th>1</th>\n",
       "      <td>7.8</td>\n",
       "      <td>0.88</td>\n",
       "      <td>0.00</td>\n",
       "      <td>0.098</td>\n",
       "      <td>67.0</td>\n",
       "      <td>0.9968</td>\n",
       "      <td>0.68</td>\n",
       "      <td>9.8</td>\n",
       "      <td>5</td>\n",
       "    </tr>\n",
       "    <tr>\n",
       "      <th>2</th>\n",
       "      <td>7.8</td>\n",
       "      <td>0.76</td>\n",
       "      <td>0.04</td>\n",
       "      <td>0.092</td>\n",
       "      <td>54.0</td>\n",
       "      <td>0.9970</td>\n",
       "      <td>0.65</td>\n",
       "      <td>9.8</td>\n",
       "      <td>5</td>\n",
       "    </tr>\n",
       "    <tr>\n",
       "      <th>3</th>\n",
       "      <td>11.2</td>\n",
       "      <td>0.28</td>\n",
       "      <td>0.56</td>\n",
       "      <td>0.075</td>\n",
       "      <td>60.0</td>\n",
       "      <td>0.9980</td>\n",
       "      <td>0.58</td>\n",
       "      <td>9.8</td>\n",
       "      <td>6</td>\n",
       "    </tr>\n",
       "    <tr>\n",
       "      <th>5</th>\n",
       "      <td>7.4</td>\n",
       "      <td>0.66</td>\n",
       "      <td>0.00</td>\n",
       "      <td>0.075</td>\n",
       "      <td>40.0</td>\n",
       "      <td>0.9978</td>\n",
       "      <td>0.56</td>\n",
       "      <td>9.4</td>\n",
       "      <td>5</td>\n",
       "    </tr>\n",
       "  </tbody>\n",
       "</table>\n",
       "</div>"
      ],
      "text/plain": [
       "   fixed_acidity  volatile_acidity  citric_acid  chlorides  \\\n",
       "0            7.4              0.70         0.00      0.076   \n",
       "1            7.8              0.88         0.00      0.098   \n",
       "2            7.8              0.76         0.04      0.092   \n",
       "3           11.2              0.28         0.56      0.075   \n",
       "5            7.4              0.66         0.00      0.075   \n",
       "\n",
       "   total_sulfur_dioxide  density  sulphates  alcohol  quality  \n",
       "0                  34.0   0.9978       0.56      9.4        5  \n",
       "1                  67.0   0.9968       0.68      9.8        5  \n",
       "2                  54.0   0.9970       0.65      9.8        5  \n",
       "3                  60.0   0.9980       0.58      9.8        6  \n",
       "5                  40.0   0.9978       0.56      9.4        5  "
      ]
     },
     "execution_count": 24,
     "metadata": {},
     "output_type": "execute_result"
    }
   ],
   "source": [
    "df.head()"
   ]
  },
  {
   "cell_type": "code",
   "execution_count": 25,
   "id": "e8e2729e",
   "metadata": {
    "execution": {
     "iopub.execute_input": "2025-04-07T03:13:05.358276Z",
     "iopub.status.busy": "2025-04-07T03:13:05.357936Z",
     "iopub.status.idle": "2025-04-07T03:13:05.526601Z",
     "shell.execute_reply": "2025-04-07T03:13:05.525455Z"
    },
    "papermill": {
     "duration": 0.182119,
     "end_time": "2025-04-07T03:13:05.528007",
     "exception": false,
     "start_time": "2025-04-07T03:13:05.345888",
     "status": "completed"
    },
    "tags": []
   },
   "outputs": [
    {
     "data": {
      "text/plain": [
       "<Axes: xlabel='quality'>"
      ]
     },
     "execution_count": 25,
     "metadata": {},
     "output_type": "execute_result"
    },
    {
     "data": {
      "image/png": "[encoded data removed]",
      "text/plain": [
       "<Figure size 640x480 with 1 Axes>"
      ]
     },
     "metadata": {},
     "output_type": "display_data"
    }
   ],
   "source": [
    "df['quality'].value_counts().plot(kind='bar')"
   ]
  },
  {
   "cell_type": "code",
   "execution_count": 26,
   "id": "bf10a523",
   "metadata": {
    "execution": {
     "iopub.execute_input": "2025-04-07T03:13:05.552547Z",
     "iopub.status.busy": "2025-04-07T03:13:05.552221Z",
     "iopub.status.idle": "2025-04-07T03:13:05.556809Z",
     "shell.execute_reply": "2025-04-07T03:13:05.556131Z"
    },
    "papermill": {
     "duration": 0.018217,
     "end_time": "2025-04-07T03:13:05.557933",
     "exception": false,
     "start_time": "2025-04-07T03:13:05.539716",
     "status": "completed"
    },
    "tags": []
   },
   "outputs": [],
   "source": [
    "label_map = {3:0, 4:1, 5:2, 6:3, 7:4, 8:5}\n",
    "\n",
    "df['quality'] = df['quality'].map(label_map)"
   ]
  },
  {
   "cell_type": "code",
   "execution_count": 27,
   "id": "fd627b76",
   "metadata": {
    "execution": {
     "iopub.execute_input": "2025-04-07T03:13:05.581069Z",
     "iopub.status.busy": "2025-04-07T03:13:05.580763Z",
     "iopub.status.idle": "2025-04-07T03:13:05.585961Z",
     "shell.execute_reply": "2025-04-07T03:13:05.585311Z"
    },
    "papermill": {
     "duration": 0.017676,
     "end_time": "2025-04-07T03:13:05.586963",
     "exception": false,
     "start_time": "2025-04-07T03:13:05.569287",
     "status": "completed"
    },
    "tags": []
   },
   "outputs": [
    {
     "data": {
      "text/plain": [
       "quality\n",
       "2    415\n",
       "3    396\n",
       "4    117\n",
       "1     31\n",
       "5     15\n",
       "0      5\n",
       "Name: count, dtype: int64"
      ]
     },
     "execution_count": 27,
     "metadata": {},
     "output_type": "execute_result"
    }
   ],
   "source": [
    "df['quality'].value_counts()"
   ]
  },
  {
   "cell_type": "code",
   "execution_count": 28,
   "id": "10d6fe08",
   "metadata": {
    "execution": {
     "iopub.execute_input": "2025-04-07T03:13:05.609538Z",
     "iopub.status.busy": "2025-04-07T03:13:05.609264Z",
     "iopub.status.idle": "2025-04-07T03:13:05.613092Z",
     "shell.execute_reply": "2025-04-07T03:13:05.612434Z"
    },
    "papermill": {
     "duration": 0.016216,
     "end_time": "2025-04-07T03:13:05.614073",
     "exception": false,
     "start_time": "2025-04-07T03:13:05.597857",
     "status": "completed"
    },
    "tags": []
   },
   "outputs": [],
   "source": [
    "x = df.drop(columns=['quality'])  # Features (all columns except 'price')\n",
    "y = df['quality'].values"
   ]
  },
  {
   "cell_type": "code",
   "execution_count": 29,
   "id": "3724c77c",
   "metadata": {
    "execution": {
     "iopub.execute_input": "2025-04-07T03:13:05.636621Z",
     "iopub.status.busy": "2025-04-07T03:13:05.636383Z",
     "iopub.status.idle": "2025-04-07T03:13:05.799988Z",
     "shell.execute_reply": "2025-04-07T03:13:05.799393Z"
    },
    "papermill": {
     "duration": 0.176287,
     "end_time": "2025-04-07T03:13:05.801378",
     "exception": false,
     "start_time": "2025-04-07T03:13:05.625091",
     "status": "completed"
    },
    "tags": []
   },
   "outputs": [],
   "source": [
    "from sklearn.preprocessing import StandardScaler\n",
    "\n",
    "scaler = StandardScaler()\n",
    "x = scaler.fit_transform(x)\n"
   ]
  },
  {
   "cell_type": "code",
   "execution_count": 30,
   "id": "e165d7be",
   "metadata": {
    "execution": {
     "iopub.execute_input": "2025-04-07T03:13:05.827634Z",
     "iopub.status.busy": "2025-04-07T03:13:05.827384Z",
     "iopub.status.idle": "2025-04-07T03:13:05.938169Z",
     "shell.execute_reply": "2025-04-07T03:13:05.937225Z"
    },
    "papermill": {
     "duration": 0.124584,
     "end_time": "2025-04-07T03:13:05.939711",
     "exception": false,
     "start_time": "2025-04-07T03:13:05.815127",
     "status": "completed"
    },
    "tags": []
   },
   "outputs": [],
   "source": [
    "from sklearn.model_selection import train_test_split\n",
    "x_train, x_test, y_train, y_test = train_test_split(x, y, test_size=0.33, random_state=42)"
   ]
  },
  {
   "cell_type": "code",
   "execution_count": 31,
   "id": "69671c9b",
   "metadata": {
    "execution": {
     "iopub.execute_input": "2025-04-07T03:13:05.964081Z",
     "iopub.status.busy": "2025-04-07T03:13:05.963748Z",
     "iopub.status.idle": "2025-04-07T03:13:06.542409Z",
     "shell.execute_reply": "2025-04-07T03:13:06.541711Z"
    },
    "papermill": {
     "duration": 0.592072,
     "end_time": "2025-04-07T03:13:06.543846",
     "exception": false,
     "start_time": "2025-04-07T03:13:05.951774",
     "status": "completed"
    },
    "tags": []
   },
   "outputs": [],
   "source": [
    "from sklearn.linear_model import LogisticRegression  \n",
    "from sklearn.neighbors import KNeighborsClassifier  \n",
    "from sklearn.svm import SVC\n",
    "from sklearn.naive_bayes import GaussianNB\n",
    "from sklearn.tree import DecisionTreeClassifier  \n",
    "from sklearn.ensemble import RandomForestClassifier  \n",
    "from xgboost import XGBClassifier\n",
    "from sklearn.ensemble import GradientBoostingClassifier\n",
    "from sklearn.metrics import accuracy_score, classification_report"
   ]
  },
  {
   "cell_type": "code",
   "execution_count": 32,
   "id": "f7d9cc2a",
   "metadata": {
    "execution": {
     "iopub.execute_input": "2025-04-07T03:13:06.567722Z",
     "iopub.status.busy": "2025-04-07T03:13:06.567396Z",
     "iopub.status.idle": "2025-04-07T03:13:06.572087Z",
     "shell.execute_reply": "2025-04-07T03:13:06.571082Z"
    },
    "papermill": {
     "duration": 0.017687,
     "end_time": "2025-04-07T03:13:06.573167",
     "exception": false,
     "start_time": "2025-04-07T03:13:06.555480",
     "status": "completed"
    },
    "tags": []
   },
   "outputs": [],
   "source": [
    "def train_model(model, model_name):\n",
    "    print(f'Model: {model_name}')\n",
    "    \n",
    "    # Fit the model on the training data\n",
    "    model.fit(x_train, y_train)\n",
    "    \n",
    "    # Predictions on the training data\n",
    "    y_train_pred = model.predict(x_train)\n",
    "    # Predictions on the testing data\n",
    "    y_test_pred = model.predict(x_test)\n",
    "    \n",
    "    # Calculate accuracy scores\n",
    "    train_accuracy = accuracy_score(y_train, y_train_pred)\n",
    "    test_accuracy = accuracy_score(y_test, y_test_pred)\n",
    "    \n",
    "    print(f'Training Accuracy Score: {train_accuracy:.2f}')\n",
    "    print(f'Testing Accuracy Score: {test_accuracy:.2f}')\n",
    "    \n",
    "    # Generate classification report for testing data\n",
    "    report = classification_report(y_test, y_test_pred)\n",
    "    print('Classification Report:')\n",
    "    print(report)\n",
    "    \n",
    "    return model"
   ]
  },
  {
   "cell_type": "code",
   "execution_count": 33,
   "id": "2093bf09",
   "metadata": {
    "execution": {
     "iopub.execute_input": "2025-04-07T03:13:06.595758Z",
     "iopub.status.busy": "2025-04-07T03:13:06.595489Z",
     "iopub.status.idle": "2025-04-07T03:13:07.772130Z",
     "shell.execute_reply": "2025-04-07T03:13:07.771305Z"
    },
    "papermill": {
     "duration": 1.189117,
     "end_time": "2025-04-07T03:13:07.773290",
     "exception": false,
     "start_time": "2025-04-07T03:13:06.584173",
     "status": "completed"
    },
    "tags": []
   },
   "outputs": [
    {
     "data": {
      "text/html": [
       "<style type=\"text/css\">\n",
       "#T_11e93_row0_col1 {\n",
       "  background-color: #fde725;\n",
       "  color: #000000;\n",
       "}\n",
       "#T_11e93_row1_col1 {\n",
       "  background-color: #86d549;\n",
       "  color: #000000;\n",
       "}\n",
       "#T_11e93_row2_col1, #T_11e93_row3_col1 {\n",
       "  background-color: #58c765;\n",
       "  color: #000000;\n",
       "}\n",
       "#T_11e93_row4_col1 {\n",
       "  background-color: #3bbb75;\n",
       "  color: #f1f1f1;\n",
       "}\n",
       "#T_11e93_row5_col1 {\n",
       "  background-color: #2a788e;\n",
       "  color: #f1f1f1;\n",
       "}\n",
       "#T_11e93_row6_col1 {\n",
       "  background-color: #375a8c;\n",
       "  color: #f1f1f1;\n",
       "}\n",
       "#T_11e93_row7_col1 {\n",
       "  background-color: #440154;\n",
       "  color: #f1f1f1;\n",
       "}\n",
       "</style>\n",
       "<table id=\"T_11e93\">\n",
       "  <thead>\n",
       "    <tr>\n",
       "      <th class=\"blank level0\" >&nbsp;</th>\n",
       "      <th id=\"T_11e93_level0_col0\" class=\"col_heading level0 col0\" >Model</th>\n",
       "      <th id=\"T_11e93_level0_col1\" class=\"col_heading level0 col1\" >Accuracy</th>\n",
       "      <th id=\"T_11e93_level0_col2\" class=\"col_heading level0 col2\" >Precision</th>\n",
       "      <th id=\"T_11e93_level0_col3\" class=\"col_heading level0 col3\" >Recall</th>\n",
       "      <th id=\"T_11e93_level0_col4\" class=\"col_heading level0 col4\" >F1-Score</th>\n",
       "    </tr>\n",
       "  </thead>\n",
       "  <tbody>\n",
       "    <tr>\n",
       "      <th id=\"T_11e93_level0_row0\" class=\"row_heading level0 row0\" >2</th>\n",
       "      <td id=\"T_11e93_row0_col0\" class=\"data row0 col0\" >logistic</td>\n",
       "      <td id=\"T_11e93_row0_col1\" class=\"data row0 col1\" >0.632716</td>\n",
       "      <td id=\"T_11e93_row0_col2\" class=\"data row0 col2\" >0.308487</td>\n",
       "      <td id=\"T_11e93_row0_col3\" class=\"data row0 col3\" >0.287625</td>\n",
       "      <td id=\"T_11e93_row0_col4\" class=\"data row0 col4\" >0.291478</td>\n",
       "    </tr>\n",
       "    <tr>\n",
       "      <th id=\"T_11e93_level0_row1\" class=\"row_heading level0 row1\" >1</th>\n",
       "      <td id=\"T_11e93_row1_col0\" class=\"data row1 col0\" >svc</td>\n",
       "      <td id=\"T_11e93_row1_col1\" class=\"data row1 col1\" >0.604938</td>\n",
       "      <td id=\"T_11e93_row1_col2\" class=\"data row1 col2\" >0.202076</td>\n",
       "      <td id=\"T_11e93_row1_col3\" class=\"data row1 col3\" >0.236024</td>\n",
       "      <td id=\"T_11e93_row1_col4\" class=\"data row1 col4\" >0.217715</td>\n",
       "    </tr>\n",
       "    <tr>\n",
       "      <th id=\"T_11e93_level0_row2\" class=\"row_heading level0 row2\" >3</th>\n",
       "      <td id=\"T_11e93_row2_col0\" class=\"data row2 col0\" >naive</td>\n",
       "      <td id=\"T_11e93_row2_col1\" class=\"data row2 col1\" >0.592593</td>\n",
       "      <td id=\"T_11e93_row2_col2\" class=\"data row2 col2\" >0.346351</td>\n",
       "      <td id=\"T_11e93_row2_col3\" class=\"data row2 col3\" >0.350655</td>\n",
       "      <td id=\"T_11e93_row2_col4\" class=\"data row2 col4\" >0.338934</td>\n",
       "    </tr>\n",
       "    <tr>\n",
       "      <th id=\"T_11e93_level0_row3\" class=\"row_heading level0 row3\" >5</th>\n",
       "      <td id=\"T_11e93_row3_col0\" class=\"data row3 col0\" >forest</td>\n",
       "      <td id=\"T_11e93_row3_col1\" class=\"data row3 col1\" >0.592593</td>\n",
       "      <td id=\"T_11e93_row3_col2\" class=\"data row3 col2\" >0.281649</td>\n",
       "      <td id=\"T_11e93_row3_col3\" class=\"data row3 col3\" >0.286921</td>\n",
       "      <td id=\"T_11e93_row3_col4\" class=\"data row3 col4\" >0.283735</td>\n",
       "    </tr>\n",
       "    <tr>\n",
       "      <th id=\"T_11e93_level0_row4\" class=\"row_heading level0 row4\" >6</th>\n",
       "      <td id=\"T_11e93_row4_col0\" class=\"data row4 col0\" >xgboost</td>\n",
       "      <td id=\"T_11e93_row4_col1\" class=\"data row4 col1\" >0.583333</td>\n",
       "      <td id=\"T_11e93_row4_col2\" class=\"data row4 col2\" >0.278024</td>\n",
       "      <td id=\"T_11e93_row4_col3\" class=\"data row4 col3\" >0.286791</td>\n",
       "      <td id=\"T_11e93_row4_col4\" class=\"data row4 col4\" >0.282249</td>\n",
       "    </tr>\n",
       "    <tr>\n",
       "      <th id=\"T_11e93_level0_row5\" class=\"row_heading level0 row5\" >7</th>\n",
       "      <td id=\"T_11e93_row5_col0\" class=\"data row5 col0\" >gradientboost</td>\n",
       "      <td id=\"T_11e93_row5_col1\" class=\"data row5 col1\" >0.540123</td>\n",
       "      <td id=\"T_11e93_row5_col2\" class=\"data row5 col2\" >0.261577</td>\n",
       "      <td id=\"T_11e93_row5_col3\" class=\"data row5 col3\" >0.263672</td>\n",
       "      <td id=\"T_11e93_row5_col4\" class=\"data row5 col4\" >0.253137</td>\n",
       "    </tr>\n",
       "    <tr>\n",
       "      <th id=\"T_11e93_level0_row6\" class=\"row_heading level0 row6\" >0</th>\n",
       "      <td id=\"T_11e93_row6_col0\" class=\"data row6 col0\" >knn</td>\n",
       "      <td id=\"T_11e93_row6_col1\" class=\"data row6 col1\" >0.521605</td>\n",
       "      <td id=\"T_11e93_row6_col2\" class=\"data row6 col2\" >0.264105</td>\n",
       "      <td id=\"T_11e93_row6_col3\" class=\"data row6 col3\" >0.266696</td>\n",
       "      <td id=\"T_11e93_row6_col4\" class=\"data row6 col4\" >0.264808</td>\n",
       "    </tr>\n",
       "    <tr>\n",
       "      <th id=\"T_11e93_level0_row7\" class=\"row_heading level0 row7\" >4</th>\n",
       "      <td id=\"T_11e93_row7_col0\" class=\"data row7 col0\" >tree</td>\n",
       "      <td id=\"T_11e93_row7_col1\" class=\"data row7 col1\" >0.478395</td>\n",
       "      <td id=\"T_11e93_row7_col2\" class=\"data row7 col2\" >0.244250</td>\n",
       "      <td id=\"T_11e93_row7_col3\" class=\"data row7 col3\" >0.238510</td>\n",
       "      <td id=\"T_11e93_row7_col4\" class=\"data row7 col4\" >0.240920</td>\n",
       "    </tr>\n",
       "  </tbody>\n",
       "</table>\n"
      ],
      "text/plain": [
       "<pandas.io.formats.style.Styler at 0x78cda434b970>"
      ]
     },
     "execution_count": 33,
     "metadata": {},
     "output_type": "execute_result"
    }
   ],
   "source": [
    "from sklearn.metrics import accuracy_score, precision_score, recall_score, f1_score\n",
    "\n",
    "# Define a dictionary for the models\n",
    "model_list = dict(\n",
    "    knn=KNeighborsClassifier(n_neighbors=3, metric='minkowski', p=2),\n",
    "    svc=SVC(kernel='linear', random_state=0),\n",
    "    logistic=LogisticRegression(),\n",
    "    naive=GaussianNB(),\n",
    "    tree=DecisionTreeClassifier(criterion='entropy', random_state=0),\n",
    "    forest=RandomForestClassifier(n_estimators=50, criterion=\"entropy\"),\n",
    "    xgboost=XGBClassifier(),\n",
    "    gradientboost=GradientBoostingClassifier(n_estimators=100, learning_rate=1.0, max_depth=1, random_state=1)\n",
    ")\n",
    "\n",
    "# Store evaluation results in a list\n",
    "results = []\n",
    "\n",
    "# Assuming X_train, y_train, X_test, y_test are already defined\n",
    "for key, model in model_list.items():\n",
    "    # Train the model\n",
    "    model.fit(x_train, y_train)\n",
    "    \n",
    "    # Make predictions\n",
    "    y_pred = model.predict(x_test)\n",
    "    \n",
    "    # Calculate evaluation metrics\n",
    "    accuracy = accuracy_score(y_test, y_pred)\n",
    "    precision = precision_score(y_test, y_pred, average='macro', zero_division=0)\n",
    "    recall = recall_score(y_test, y_pred, average='macro', zero_division=0)\n",
    "    f1 = f1_score(y_test, y_pred, average='macro', zero_division=0)\n",
    "    \n",
    "    # Store the metrics in the results list\n",
    "    results.append({\n",
    "        'Model': key,\n",
    "        'Accuracy': accuracy,\n",
    "        'Precision': precision,\n",
    "        'Recall': recall,\n",
    "        'F1-Score': f1\n",
    "    })\n",
    "\n",
    "model_metrics_df = pd.DataFrame(results)\n",
    "\n",
    "\n",
    "sorted_df = model_metrics_df.sort_values(by='Accuracy', ascending=False)\n",
    "\n",
    "styled_df = sorted_df.style.background_gradient(cmap='viridis', subset=['Accuracy'])\n",
    "\n",
    "styled_df"
   ]
  },
  {
   "cell_type": "code",
   "execution_count": 34,
   "id": "7458fc05",
   "metadata": {
    "execution": {
     "iopub.execute_input": "2025-04-07T03:13:07.796877Z",
     "iopub.status.busy": "2025-04-07T03:13:07.796479Z",
     "iopub.status.idle": "2025-04-07T03:13:08.184854Z",
     "shell.execute_reply": "2025-04-07T03:13:08.183942Z"
    },
    "papermill": {
     "duration": 0.401611,
     "end_time": "2025-04-07T03:13:08.186457",
     "exception": false,
     "start_time": "2025-04-07T03:13:07.784846",
     "status": "completed"
    },
    "tags": []
   },
   "outputs": [],
   "source": [
    "from sklearn.model_selection import cross_val_score\n",
    "model=LogisticRegression()\n",
    "model.fit(x_train, y_train)\n",
    "# Perform 5-fold cross-validation\n",
    "scores = cross_val_score(model, x_train, y_train, cv=20, scoring='accuracy')"
   ]
  },
  {
   "cell_type": "code",
   "execution_count": 35,
   "id": "f8b7a275",
   "metadata": {
    "execution": {
     "iopub.execute_input": "2025-04-07T03:13:08.211211Z",
     "iopub.status.busy": "2025-04-07T03:13:08.210896Z",
     "iopub.status.idle": "2025-04-07T03:13:08.215559Z",
     "shell.execute_reply": "2025-04-07T03:13:08.214929Z"
    },
    "papermill": {
     "duration": 0.017932,
     "end_time": "2025-04-07T03:13:08.216642",
     "exception": false,
     "start_time": "2025-04-07T03:13:08.198710",
     "status": "completed"
    },
    "tags": []
   },
   "outputs": [
    {
     "data": {
      "text/plain": [
       "array([0.39393939, 0.54545455, 0.51515152, 0.51515152, 0.66666667,\n",
       "       0.63636364, 0.54545455, 0.60606061, 0.63636364, 0.57575758,\n",
       "       0.63636364, 0.42424242, 0.51515152, 0.63636364, 0.45454545,\n",
       "       0.6875    , 0.53125   , 0.71875   , 0.625     , 0.5625    ])"
      ]
     },
     "execution_count": 35,
     "metadata": {},
     "output_type": "execute_result"
    }
   ],
   "source": [
    "scores"
   ]
  },
  {
   "cell_type": "code",
   "execution_count": null,
   "id": "6a4b7649",
   "metadata": {
    "papermill": {
     "duration": 0.010975,
     "end_time": "2025-04-07T03:13:08.239316",
     "exception": false,
     "start_time": "2025-04-07T03:13:08.228341",
     "status": "completed"
    },
    "tags": []
   },
   "outputs": [],
   "source": []
  }
 ],
 "metadata": {
  "kaggle": {
   "accelerator": "none",
   "dataSources": [
    {
     "datasetId": 1866301,
     "sourceId": 3047725,
     "sourceType": "datasetVersion"
    }
   ],
   "dockerImageVersionId": 30918,
   "isGpuEnabled": false,
   "isInternetEnabled": true,
   "language": "python",
   "sourceType": "notebook"
  },
  "kernelspec": {
   "display_name": "Python 3",
   "language": "python",
   "name": "python3"
  },
  "language_info": {
   "codemirror_mode": {
    "name": "ipython",
    "version": 3
   },
   "file_extension": ".py",
   "mimetype": "text/x-python",
   "name": "python",
   "nbconvert_exporter": "python",
   "pygments_lexer": "ipython3",
   "version": "3.10.12"
  },
  "papermill": {
   "default_parameters": {},
   "duration": 10.543688,
   "end_time": "2025-04-07T03:13:08.968878",
   "environment_variables": {},
   "exception": null,
   "input_path": "__notebook__.ipynb",
   "output_path": "__notebook__.ipynb",
   "parameters": {},
   "start_time": "2025-04-07T03:12:58.425190",
   "version": "2.6.0"
  }
 },
 "nbformat": 4,
 "nbformat_minor": 5
}
